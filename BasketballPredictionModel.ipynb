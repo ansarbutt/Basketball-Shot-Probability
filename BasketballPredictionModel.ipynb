{
 "cells": [
  {
   "cell_type": "code",
   "execution_count": 1,
   "metadata": {},
   "outputs": [
    {
     "name": "stdout",
     "output_type": "stream",
     "text": [
      "Importing Jupyter notebook from setup_code.ipynb\n"
     ]
    }
   ],
   "source": [
    "import numpy as np\n",
    "import pandas as pd\n",
    "import re as re\n",
    "import pickle\n",
    "\n",
    "from sklearn.preprocessing import Imputer\n",
    "\n",
    "import matplotlib.pyplot as plt\n",
    "import seaborn as sns\n",
    "import time\n",
    "import scipy.stats as st\n",
    "import scipy.special as spec\n",
    "import math\n",
    "\n",
    "from sklearn.model_selection import train_test_split, StratifiedShuffleSplit,StratifiedKFold, RandomizedSearchCV, GridSearchCV\n",
    "\n",
    "from sklearn.metrics import accuracy_score, log_loss, roc_auc_score, precision_score, recall_score\n",
    "\n",
    "from sklearn.neighbors import KNeighborsClassifier\n",
    "from sklearn.svm import SVC, LinearSVC, NuSVC\n",
    "from sklearn.tree import DecisionTreeClassifier\n",
    "from sklearn.ensemble import RandomForestClassifier, AdaBoostClassifier, GradientBoostingClassifier, RandomForestRegressor\n",
    "from sklearn.naive_bayes import GaussianNB\n",
    "from sklearn.discriminant_analysis import LinearDiscriminantAnalysis, QuadraticDiscriminantAnalysis\n",
    "from sklearn.linear_model import LogisticRegression\n",
    "\n",
    "from math import log\n",
    "\n",
    "from boostaroota import BoostARoota\n",
    "from xgboost import XGBClassifier, plot_importance\n",
    "\n",
    "##########\n",
    "\n",
    "import warnings\n",
    "warnings.filterwarnings(\"ignore\")\n",
    "\n",
    "import nbimporter\n",
    "#from libraries_setup import AllLibraries\n",
    "from setup_code import *\n",
    "\n",
    "#AllLibraries()"
   ]
  },
  {
   "cell_type": "code",
   "execution_count": 2,
   "metadata": {},
   "outputs": [],
   "source": [
    "data = pd.read_csv('nba_shots.csv')\n",
    "#data.set_index('GAME_ID1', inplace=True)"
   ]
  },
  {
   "cell_type": "code",
   "execution_count": 3,
   "metadata": {},
   "outputs": [],
   "source": [
    "############################## Creating Variables ##############################\n",
    "\n",
    "date_game = pd.DataFrame(data['MATCHUP'].str.split('-',1).tolist(), columns = ['GAME_DATE','TEAMS'])\n",
    "teams = pd.DataFrame(date_game['TEAMS'].str.split(' @ | vs. ',1).tolist(), columns = ['TEAM1','TEAM2'])\n",
    "minutes_split = pd.DataFrame(data['GAME_CLOCK'].str.split(':',1).tolist(), columns = ['min', 'sec'])\n",
    "\n",
    "#GAME_DATE\n",
    "data['GAME_DATE'] = pd.to_datetime(date_game['GAME_DATE'])\n",
    "\n",
    "#HOME_TEAM\n",
    "data.loc[data['LOCATION'] == 'H', 'HOME_TEAM'] = teams['TEAM1']\n",
    "data.loc[data['LOCATION'] == 'A', 'HOME_TEAM'] = teams['TEAM2']\n",
    "\n",
    "#AWAY_TEAM\n",
    "data.loc[data['LOCATION'] == 'H', 'AWAY_TEAM'] = teams['TEAM2']\n",
    "data.loc[data['LOCATION'] == 'A', 'AWAY_TEAM'] = teams['TEAM1']\n",
    "\n",
    "#PLAYER_TEAM\n",
    "data.loc[data['LOCATION'] == 'H', 'PLAYER_TEAM'] = data['HOME_TEAM']\n",
    "data.loc[data['LOCATION'] == 'A', 'PLAYER_TEAM'] = data['AWAY_TEAM']\n",
    "\n",
    "#GAME_CLOCK_SEC\n",
    "data['GAME_CLOCK_SEC'] = pd.to_numeric(minutes_split['min'])*60 + pd.to_numeric(minutes_split['sec'])\n",
    "\n",
    "#W\n",
    "data.loc[data['W']=='W','WIN_IND'] = 1\n",
    "data.loc[data['W']=='L','WIN_IND'] = 0\n",
    "\n",
    "#THREE_POINTS_SHOT\n",
    "data.loc[data['PTS_TYPE']== 3,'THREE_POINTS_SHOT'] = 1\n",
    "data.loc[data['PTS_TYPE']== 2,'THREE_POINTS_SHOT'] = 0\n",
    "\n",
    "#PLAYER_HOME\n",
    "data.loc[data['LOCATION'] == 'H', 'PLAYER_HOME'] = 1\n",
    "data.loc[data['LOCATION'] == 'A', 'PLAYER_HOME'] = 0\n",
    "\n",
    "#Weekday and Month\n",
    "data['GAME_WEEKDAY'] = data['GAME_DATE'].dt.weekday\n",
    "data['GAME_MONTH'] = data['GAME_DATE'].dt.month"
   ]
  },
  {
   "cell_type": "code",
   "execution_count": 4,
   "metadata": {},
   "outputs": [],
   "source": [
    "############################## Imputing Variables ##############################\n",
    "\n",
    "#data.isna().sum()\n",
    "data['SHOT_CLOCK'] = data['SHOT_CLOCK'].fillna(data['GAME_CLOCK_SEC'])"
   ]
  },
  {
   "cell_type": "code",
   "execution_count": 29,
   "metadata": {},
   "outputs": [
    {
     "data": {
      "image/png": "[encoded data removed]",
      "text/plain": [
       "<matplotlib.figure.Figure at 0x174c6e30860>"
      ]
     },
     "metadata": {},
     "output_type": "display_data"
    }
   ],
   "source": [
    "############################## Variables Exploration (Against Response)##############################\n",
    "variable = 'GAME_CLOCK_SEC'\n",
    "plot_against_response = data[[variable, 'FGM']].groupby([variable],\n",
    "                                     as_index=False).mean().sort_values(by = variable, ascending = True)\n",
    "\n",
    "plot_against_response.rename(index=str, columns={'FGM': 'FG%'}, inplace = True)\n",
    "plot = plot_against_response.plot(x=variable, y = 'FG%', kind='bar', figsize = (10,5))"
   ]
  },
  {
   "cell_type": "code",
   "execution_count": 6,
   "metadata": {},
   "outputs": [],
   "source": [
    "ids = ['player_id', 'CLOSEST_DEFENDER_PLAYER_ID']\n",
    "\n",
    "for ID in ids:\n",
    "    # Per Player, per Game: count how many 2pts/3pts shots they shoot/made\n",
    "    three_points_metrics = data.loc[data['THREE_POINTS_SHOT']==1,:].groupby([ID, 'GAME_ID1', 'GAME_DATE', 'WIN_IND','FINAL_MARGIN']).FGM.agg(['sum', 'count']).reset_index()\n",
    "    three_points_metrics.rename(index=str, columns={'sum': 'SuccessfulShots3pts', 'count': 'Shots3pts'}, inplace = True)\n",
    "\n",
    "    two_points_metrics = data.loc[data['THREE_POINTS_SHOT']==0,:].groupby([ID, 'GAME_ID1','GAME_DATE', 'WIN_IND', 'FINAL_MARGIN']).FGM.agg(['sum', 'count']).reset_index()\n",
    "    two_points_metrics.rename(index=str, columns={'sum': 'SuccessfulShots2pts', 'count': 'Shots2pts'}, inplace = True)\n",
    "\n",
    "    #merge into one table and replace NAs with 0 shots\n",
    "    player_stats = three_points_metrics.merge(two_points_metrics, on = [ID, 'GAME_ID1','GAME_DATE', 'WIN_IND', 'FINAL_MARGIN'], \n",
    "                                              how = 'outer')\n",
    "    player_stats.fillna(0, inplace = True)\n",
    "\n",
    "    #sort so that you could search for past N games\n",
    "    player_stats.sort_values(by = [ID, 'GAME_DATE'], inplace = True)\n",
    "\n",
    "    #set date as index so you'd have it in your data when you calculate rolling metrics\n",
    "    player_stats.set_index('GAME_DATE', inplace = True)\n",
    "    player_stats.head()\n",
    "\n",
    "    LookAtPastGames = [3,5]\n",
    "    all_history = data.loc[:, [ID, 'GAME_DATE']].drop_duplicates()\n",
    "\n",
    "    for PastGames in LookAtPastGames:\n",
    "\n",
    "        #Find Wins and Shots for previous N games\n",
    "        player_wins = player_stats.groupby(ID)['WIN_IND'].rolling(PastGames).sum().shift(1).reset_index(name = 'PastGamesPlayerWins')\n",
    "        player_final_margin = player_stats.groupby(ID)['FINAL_MARGIN'].rolling(PastGames).sum().shift(1).reset_index(name = 'PastGamesFinalMargin')\n",
    "\n",
    "        player_shots3pt = player_stats.groupby(ID)['Shots3pts'].rolling(PastGames).sum().shift(1).reset_index()\n",
    "        player_shots2pt = player_stats.groupby(ID)['Shots2pts'].rolling(PastGames).sum().shift(1).reset_index()\n",
    "\n",
    "        player_success_shots3pt = player_stats.groupby(ID)['SuccessfulShots3pts'].rolling(PastGames).sum().shift(1).reset_index()\n",
    "        player_success_shots2pt = player_stats.groupby(ID)['SuccessfulShots2pts'].rolling(PastGames).sum().shift(1).reset_index()\n",
    "\n",
    "        #Group all the data together into \"player_stats_past_games\"\n",
    "        total_shots = player_shots3pt.merge (player_shots2pt, on = [ID, 'GAME_DATE'], how = 'outer')\n",
    "        success_shots = player_success_shots3pt.merge (player_success_shots2pt, on = [ID, 'GAME_DATE'], how = 'outer')\n",
    "        player_shots = total_shots.merge (success_shots, on = [ID, 'GAME_DATE'], how = 'outer')\n",
    "\n",
    "        player_res = player_wins.merge(player_final_margin, on = [ID, 'GAME_DATE'], how = 'outer')\n",
    "\n",
    "        player_stats_past_games = player_shots.merge(player_res, on = [ID, 'GAME_DATE'], how = 'outer')\n",
    "\n",
    "        #Calculate ratio metrics\n",
    "        player_stats_past_games['PastGamePlayerAccuracy2pts'] = player_stats_past_games['SuccessfulShots2pts']/ player_stats_past_games['Shots2pts']\n",
    "        player_stats_past_games['PastGamePlayerAccuracy3pts'] = player_stats_past_games['SuccessfulShots3pts']/ player_stats_past_games['Shots3pts']\n",
    "\n",
    "        player_stats_past_games['PastGamesPlayerWinPrcnt'] = player_stats_past_games['PastGamesPlayerWins']/10\n",
    "\n",
    "        columns = list(player_stats_past_games)\n",
    "        columns.remove(ID)\n",
    "        columns.remove('GAME_DATE')\n",
    "        new_columns = [element+str(PastGames)+'Games' for element in columns]\n",
    "\n",
    "        player_stats_past_games.rename(columns = dict(zip(columns, new_columns)), inplace = True)\n",
    "\n",
    "        all_history = all_history.merge(player_stats_past_games,on = [ID, 'GAME_DATE'], how = 'left')\n",
    "\n",
    "    columns = list(all_history)\n",
    "    columns.remove(ID)\n",
    "    columns.remove('GAME_DATE')\n",
    "\n",
    "    ############## Add Player Stats to the Master Table #############\n",
    "\n",
    "    new_columns_player = [ID + \"_\" + element for element in columns]\n",
    "\n",
    "    #do not rename \"inplace\" because you need the originial names in the next steps    \n",
    "    data = data.merge(all_history.rename(columns = dict(zip(columns, new_columns_player))),\n",
    "                      on = [ID, 'GAME_DATE'], how = 'left')"
   ]
  },
  {
   "cell_type": "code",
   "execution_count": 7,
   "metadata": {},
   "outputs": [],
   "source": [
    "############################## In Game Variables ##############################\n",
    "data['Last_FGM'] = data.groupby(['player_id', 'GAME_ID1'])['FGM'].shift(1)\n",
    "data['ingame_FGM_before_shot'] = data.groupby(['player_id', 'GAME_ID1'])['FGM'].cumsum().shift(1)\n",
    "data['ingame_TotalFG_before_shot'] = data.groupby(['player_id', 'GAME_ID1'])['SHOT_NUMBER'].shift(1) \n",
    "data['ingame_FGM_acc_before_shot'] = data['ingame_FGM_before_shot']/data['ingame_TotalFG_before_shot']"
   ]
  },
  {
   "cell_type": "code",
   "execution_count": 8,
   "metadata": {},
   "outputs": [],
   "source": [
    "############################## Delete Variables ##############################\n",
    "\n",
    "variables_to_delete = ['GAME_ID1', 'MATCHUP', 'W', 'FINAL_MARGIN','SHOT_RESULT',\n",
    "                      'PTS', 'GAME_CLOCK', 'GAME_DATE', 'PLAYER_TEAM', 'THREE_POINTS_SHOT', \n",
    "                      'WIN_IND']\n",
    "\n",
    "for variable in variables_to_delete:\n",
    "    data = data.drop (variable, 1)"
   ]
  },
  {
   "cell_type": "code",
   "execution_count": 9,
   "metadata": {},
   "outputs": [
    {
     "data": {
      "text/plain": [
       "LOCATION                                                        object\n",
       "SHOT_NUMBER                                                      int64\n",
       "PERIOD                                                           int64\n",
       "SHOT_CLOCK                                                     float64\n",
       "DRIBBLES                                                         int64\n",
       "TOUCH_TIME                                                     float64\n",
       "SHOT_DIST                                                      float64\n",
       "PTS_TYPE                                                         int64\n",
       "CLOSEST_DEFENDER_PLAYER_ID                                       int64\n",
       "CLOSE_DEF_DIST                                                 float64\n",
       "FGM                                                              int64\n",
       "player_id                                                        int64\n",
       "HOME_TEAM                                                       object\n",
       "AWAY_TEAM                                                       object\n",
       "GAME_CLOCK_SEC                                                   int64\n",
       "PLAYER_HOME                                                    float64\n",
       "GAME_WEEKDAY                                                     int64\n",
       "GAME_MONTH                                                       int64\n",
       "player_id_Shots3pts3Games                                      float64\n",
       "player_id_Shots2pts3Games                                      float64\n",
       "player_id_SuccessfulShots3pts3Games                            float64\n",
       "player_id_SuccessfulShots2pts3Games                            float64\n",
       "player_id_PastGamesPlayerWins3Games                            float64\n",
       "player_id_PastGamesFinalMargin3Games                           float64\n",
       "player_id_PastGamePlayerAccuracy2pts3Games                     float64\n",
       "player_id_PastGamePlayerAccuracy3pts3Games                     float64\n",
       "player_id_PastGamesPlayerWinPrcnt3Games                        float64\n",
       "player_id_Shots3pts5Games                                      float64\n",
       "player_id_Shots2pts5Games                                      float64\n",
       "player_id_SuccessfulShots3pts5Games                            float64\n",
       "player_id_SuccessfulShots2pts5Games                            float64\n",
       "player_id_PastGamesPlayerWins5Games                            float64\n",
       "player_id_PastGamesFinalMargin5Games                           float64\n",
       "player_id_PastGamePlayerAccuracy2pts5Games                     float64\n",
       "player_id_PastGamePlayerAccuracy3pts5Games                     float64\n",
       "player_id_PastGamesPlayerWinPrcnt5Games                        float64\n",
       "CLOSEST_DEFENDER_PLAYER_ID_Shots3pts3Games                     float64\n",
       "CLOSEST_DEFENDER_PLAYER_ID_Shots2pts3Games                     float64\n",
       "CLOSEST_DEFENDER_PLAYER_ID_SuccessfulShots3pts3Games           float64\n",
       "CLOSEST_DEFENDER_PLAYER_ID_SuccessfulShots2pts3Games           float64\n",
       "CLOSEST_DEFENDER_PLAYER_ID_PastGamesPlayerWins3Games           float64\n",
       "CLOSEST_DEFENDER_PLAYER_ID_PastGamesFinalMargin3Games          float64\n",
       "CLOSEST_DEFENDER_PLAYER_ID_PastGamePlayerAccuracy2pts3Games    float64\n",
       "CLOSEST_DEFENDER_PLAYER_ID_PastGamePlayerAccuracy3pts3Games    float64\n",
       "CLOSEST_DEFENDER_PLAYER_ID_PastGamesPlayerWinPrcnt3Games       float64\n",
       "CLOSEST_DEFENDER_PLAYER_ID_Shots3pts5Games                     float64\n",
       "CLOSEST_DEFENDER_PLAYER_ID_Shots2pts5Games                     float64\n",
       "CLOSEST_DEFENDER_PLAYER_ID_SuccessfulShots3pts5Games           float64\n",
       "CLOSEST_DEFENDER_PLAYER_ID_SuccessfulShots2pts5Games           float64\n",
       "CLOSEST_DEFENDER_PLAYER_ID_PastGamesPlayerWins5Games           float64\n",
       "CLOSEST_DEFENDER_PLAYER_ID_PastGamesFinalMargin5Games          float64\n",
       "CLOSEST_DEFENDER_PLAYER_ID_PastGamePlayerAccuracy2pts5Games    float64\n",
       "CLOSEST_DEFENDER_PLAYER_ID_PastGamePlayerAccuracy3pts5Games    float64\n",
       "CLOSEST_DEFENDER_PLAYER_ID_PastGamesPlayerWinPrcnt5Games       float64\n",
       "Last_FGM                                                       float64\n",
       "ingame_FGM_before_shot                                         float64\n",
       "ingame_TotalFG_before_shot                                     float64\n",
       "ingame_FGM_acc_before_shot                                     float64\n",
       "dtype: object"
      ]
     },
     "execution_count": 9,
     "metadata": {},
     "output_type": "execute_result"
    }
   ],
   "source": [
    "data.dtypes"
   ]
  },
  {
   "cell_type": "code",
   "execution_count": 10,
   "metadata": {},
   "outputs": [],
   "source": [
    "# ############################## Changing Variables Types ##############################\n",
    "\n",
    "variables_to_categories = ['PERIOD', 'PTS_TYPE', 'CLOSEST_DEFENDER_PLAYER_ID', 'player_id', 'GAME_WEEKDAY', 'GAME_MONTH']\n",
    "\n",
    "for variable in variables_to_categories:\n",
    "    data.loc[:,variable] = data[variable].astype('object')"
   ]
  },
  {
   "cell_type": "code",
   "execution_count": 11,
   "metadata": {},
   "outputs": [],
   "source": [
    "# ############################## Creating Dummy Variables ##############################\n",
    "\n",
    "# data = create_dummies(data,0)"
   ]
  },
  {
   "cell_type": "code",
   "execution_count": 12,
   "metadata": {},
   "outputs": [],
   "source": [
    "y = data.loc[:,'FGM']\n",
    "X = data.drop('FGM', 1)"
   ]
  },
  {
   "cell_type": "code",
   "execution_count": 13,
   "metadata": {},
   "outputs": [],
   "source": [
    "test_prc = 0.2\n",
    "random = 1992\n",
    "\n",
    "X_train , X_test, y_train, y_test = train_test_split(X, y, test_size = test_prc, random_state = random)"
   ]
  },
  {
   "cell_type": "code",
   "execution_count": 14,
   "metadata": {},
   "outputs": [],
   "source": [
    "data_train = X_train\n",
    "data_train['FGM'] = y_train"
   ]
  },
  {
   "cell_type": "code",
   "execution_count": 15,
   "metadata": {},
   "outputs": [],
   "source": [
    "import rpy2.robjects as robjects\n",
    "from rpy2.robjects.packages import importr\n",
    "from rpy2.robjects import pandas2ri\n",
    "# import R's \"base\" package\n",
    "base = importr('base')\n",
    "# import R's \"utils\" package\n",
    "utils = importr('utils')\n",
    "vtreat = utils.install_packages('vtreat')"
   ]
  },
  {
   "cell_type": "code",
   "execution_count": 16,
   "metadata": {},
   "outputs": [
    {
     "data": {
      "text/plain": [
       "R object with classes: ('function',) mapped to:\n",
       "<SignatureTranslatedFunction - Python:0x00000174BDEC40C8 / R:0x00000174CB389470>"
      ]
     },
     "execution_count": 16,
     "metadata": {},
     "output_type": "execute_result"
    }
   ],
   "source": [
    "robjects.r('''\n",
    "        # create a function `vtreatTrain`\n",
    "        vtreatTrain <- function(train, test, catCols, numCols) {\n",
    "            data <- train\n",
    "            data[catCols] <- lapply(data[catCols], as.character)\n",
    "            data[numCols] <- lapply(data[numCols], as.numeric)\n",
    "            vars <- setdiff(colnames(data),c('FGM'))\n",
    "            # apply vtreat cross validation to develop treatments\n",
    "            cfe <- vtreat::mkCrossFrameCExperiment(dframe = data,  \n",
    "                                                   varlist = vars,\n",
    "                                                   rareCount=10,\n",
    "                                                   outcomename = 'FGM', \n",
    "                                                   outcometarget = '1'\n",
    "                                                   )\n",
    "            # store treatment plan\n",
    "            treatments <- cfe$treatments\n",
    "            # store treatment summary\n",
    "            treatmentSummary <- treatments$scoreFrame\n",
    "            # get treated trained data set\n",
    "            dTrainTreated <- cfe$crossFrame\n",
    "            test[catCols] <- lapply(test[catCols], as.character)\n",
    "            test[numCols] <- lapply(test[numCols], as.numeric)\n",
    "            dTestTreated <- vtreat::prepare(treatments,test)\n",
    "            treatedData <- list()\n",
    "            treatedData$dTrainTreated <- dTrainTreated\n",
    "            treatedData$dTestTreated <- dTestTreated\n",
    "            return(treatedData)\n",
    "        }\n",
    "        ''')\n"
   ]
  },
  {
   "cell_type": "code",
   "execution_count": 17,
   "metadata": {},
   "outputs": [],
   "source": [
    "vtreatTrain = robjects.globalenv['vtreatTrain']"
   ]
  },
  {
   "cell_type": "code",
   "execution_count": 18,
   "metadata": {
    "scrolled": true
   },
   "outputs": [],
   "source": [
    "categorical_cols = list(data_train.select_dtypes([np.object]).columns)\n",
    "numerical_cols =  list(data_train.select_dtypes([np.number]).columns)\n",
    "numerical_cols.remove('FGM')\n",
    "treatedData = vtreatTrain(pandas2ri.py2ri(data_train), pandas2ri.py2ri(X_test), \n",
    "                          robjects.StrVector(categorical_cols), robjects.StrVector(numerical_cols))"
   ]
  },
  {
   "cell_type": "code",
   "execution_count": 19,
   "metadata": {},
   "outputs": [],
   "source": [
    "dTrainTreated = pandas2ri.ri2py(treatedData.rx2(\"dTrainTreated\"))\n",
    "dTestTreated = pandas2ri.ri2py(treatedData.rx2(\"dTestTreated\"))"
   ]
  },
  {
   "cell_type": "code",
   "execution_count": 20,
   "metadata": {},
   "outputs": [
    {
     "data": {
      "text/plain": [
       "['LOCATION_lev_x.A',\n",
       " 'LOCATION_lev_x.H',\n",
       " 'SHOT_NUMBER_clean',\n",
       " 'PERIOD_lev_x.1',\n",
       " 'PERIOD_lev_x.2',\n",
       " 'PERIOD_lev_x.3',\n",
       " 'PERIOD_lev_x.4',\n",
       " 'PERIOD_catP',\n",
       " 'PERIOD_catB',\n",
       " 'SHOT_CLOCK_clean',\n",
       " 'DRIBBLES_clean',\n",
       " 'TOUCH_TIME_clean',\n",
       " 'SHOT_DIST_clean',\n",
       " 'PTS_TYPE_lev_x.2',\n",
       " 'PTS_TYPE_lev_x.3',\n",
       " 'CLOSEST_DEFENDER_PLAYER_ID_catP',\n",
       " 'CLOSEST_DEFENDER_PLAYER_ID_catB',\n",
       " 'CLOSE_DEF_DIST_clean',\n",
       " 'player_id_catP',\n",
       " 'player_id_catB',\n",
       " 'HOME_TEAM_catP',\n",
       " 'HOME_TEAM_catB',\n",
       " 'AWAY_TEAM_catP',\n",
       " 'AWAY_TEAM_catB',\n",
       " 'GAME_CLOCK_SEC_clean',\n",
       " 'PLAYER_HOME_clean',\n",
       " 'GAME_WEEKDAY_lev_x.0',\n",
       " 'GAME_WEEKDAY_lev_x.1',\n",
       " 'GAME_WEEKDAY_lev_x.2',\n",
       " 'GAME_WEEKDAY_lev_x.3',\n",
       " 'GAME_WEEKDAY_lev_x.4',\n",
       " 'GAME_WEEKDAY_lev_x.5',\n",
       " 'GAME_WEEKDAY_lev_x.6',\n",
       " 'GAME_WEEKDAY_catP',\n",
       " 'GAME_WEEKDAY_catB',\n",
       " 'GAME_MONTH_lev_x.1',\n",
       " 'GAME_MONTH_lev_x.10',\n",
       " 'GAME_MONTH_lev_x.11',\n",
       " 'GAME_MONTH_lev_x.12',\n",
       " 'GAME_MONTH_lev_x.2',\n",
       " 'GAME_MONTH_lev_x.3',\n",
       " 'GAME_MONTH_catP',\n",
       " 'GAME_MONTH_catB',\n",
       " 'player_id_Shots3pts3Games_clean',\n",
       " 'player_id_Shots3pts3Games_isBAD',\n",
       " 'player_id_Shots2pts3Games_clean',\n",
       " 'player_id_Shots2pts3Games_isBAD',\n",
       " 'player_id_SuccessfulShots3pts3Games_clean',\n",
       " 'player_id_SuccessfulShots3pts3Games_isBAD',\n",
       " 'player_id_SuccessfulShots2pts3Games_clean',\n",
       " 'player_id_SuccessfulShots2pts3Games_isBAD',\n",
       " 'player_id_PastGamesPlayerWins3Games_clean',\n",
       " 'player_id_PastGamesPlayerWins3Games_isBAD',\n",
       " 'player_id_PastGamesFinalMargin3Games_clean',\n",
       " 'player_id_PastGamesFinalMargin3Games_isBAD',\n",
       " 'player_id_PastGamePlayerAccuracy2pts3Games_clean',\n",
       " 'player_id_PastGamePlayerAccuracy2pts3Games_isBAD',\n",
       " 'player_id_PastGamePlayerAccuracy3pts3Games_clean',\n",
       " 'player_id_PastGamePlayerAccuracy3pts3Games_isBAD',\n",
       " 'player_id_PastGamesPlayerWinPrcnt3Games_clean',\n",
       " 'player_id_PastGamesPlayerWinPrcnt3Games_isBAD',\n",
       " 'player_id_Shots3pts5Games_clean',\n",
       " 'player_id_Shots3pts5Games_isBAD',\n",
       " 'player_id_Shots2pts5Games_clean',\n",
       " 'player_id_Shots2pts5Games_isBAD',\n",
       " 'player_id_SuccessfulShots3pts5Games_clean',\n",
       " 'player_id_SuccessfulShots3pts5Games_isBAD',\n",
       " 'player_id_SuccessfulShots2pts5Games_clean',\n",
       " 'player_id_SuccessfulShots2pts5Games_isBAD',\n",
       " 'player_id_PastGamesPlayerWins5Games_clean',\n",
       " 'player_id_PastGamesPlayerWins5Games_isBAD',\n",
       " 'player_id_PastGamesFinalMargin5Games_clean',\n",
       " 'player_id_PastGamesFinalMargin5Games_isBAD',\n",
       " 'player_id_PastGamePlayerAccuracy2pts5Games_clean',\n",
       " 'player_id_PastGamePlayerAccuracy2pts5Games_isBAD',\n",
       " 'player_id_PastGamePlayerAccuracy3pts5Games_clean',\n",
       " 'player_id_PastGamePlayerAccuracy3pts5Games_isBAD',\n",
       " 'player_id_PastGamesPlayerWinPrcnt5Games_clean',\n",
       " 'player_id_PastGamesPlayerWinPrcnt5Games_isBAD',\n",
       " 'CLOSEST_DEFENDER_PLAYER_ID_Shots3pts3Games_clean',\n",
       " 'CLOSEST_DEFENDER_PLAYER_ID_Shots3pts3Games_isBAD',\n",
       " 'CLOSEST_DEFENDER_PLAYER_ID_Shots2pts3Games_clean',\n",
       " 'CLOSEST_DEFENDER_PLAYER_ID_Shots2pts3Games_isBAD',\n",
       " 'CLOSEST_DEFENDER_PLAYER_ID_SuccessfulShots3pts3Games_clean',\n",
       " 'CLOSEST_DEFENDER_PLAYER_ID_SuccessfulShots3pts3Games_isBAD',\n",
       " 'CLOSEST_DEFENDER_PLAYER_ID_SuccessfulShots2pts3Games_clean',\n",
       " 'CLOSEST_DEFENDER_PLAYER_ID_SuccessfulShots2pts3Games_isBAD',\n",
       " 'CLOSEST_DEFENDER_PLAYER_ID_PastGamesPlayerWins3Games_clean',\n",
       " 'CLOSEST_DEFENDER_PLAYER_ID_PastGamesPlayerWins3Games_isBAD',\n",
       " 'CLOSEST_DEFENDER_PLAYER_ID_PastGamesFinalMargin3Games_clean',\n",
       " 'CLOSEST_DEFENDER_PLAYER_ID_PastGamesFinalMargin3Games_isBAD',\n",
       " 'CLOSEST_DEFENDER_PLAYER_ID_PastGamePlayerAccuracy2pts3Games_clean',\n",
       " 'CLOSEST_DEFENDER_PLAYER_ID_PastGamePlayerAccuracy2pts3Games_isBAD',\n",
       " 'CLOSEST_DEFENDER_PLAYER_ID_PastGamePlayerAccuracy3pts3Games_clean',\n",
       " 'CLOSEST_DEFENDER_PLAYER_ID_PastGamePlayerAccuracy3pts3Games_isBAD',\n",
       " 'CLOSEST_DEFENDER_PLAYER_ID_PastGamesPlayerWinPrcnt3Games_clean',\n",
       " 'CLOSEST_DEFENDER_PLAYER_ID_PastGamesPlayerWinPrcnt3Games_isBAD',\n",
       " 'CLOSEST_DEFENDER_PLAYER_ID_Shots3pts5Games_clean',\n",
       " 'CLOSEST_DEFENDER_PLAYER_ID_Shots3pts5Games_isBAD',\n",
       " 'CLOSEST_DEFENDER_PLAYER_ID_Shots2pts5Games_clean',\n",
       " 'CLOSEST_DEFENDER_PLAYER_ID_Shots2pts5Games_isBAD',\n",
       " 'CLOSEST_DEFENDER_PLAYER_ID_SuccessfulShots3pts5Games_clean',\n",
       " 'CLOSEST_DEFENDER_PLAYER_ID_SuccessfulShots3pts5Games_isBAD',\n",
       " 'CLOSEST_DEFENDER_PLAYER_ID_SuccessfulShots2pts5Games_clean',\n",
       " 'CLOSEST_DEFENDER_PLAYER_ID_SuccessfulShots2pts5Games_isBAD',\n",
       " 'CLOSEST_DEFENDER_PLAYER_ID_PastGamesPlayerWins5Games_clean',\n",
       " 'CLOSEST_DEFENDER_PLAYER_ID_PastGamesPlayerWins5Games_isBAD',\n",
       " 'CLOSEST_DEFENDER_PLAYER_ID_PastGamesFinalMargin5Games_clean',\n",
       " 'CLOSEST_DEFENDER_PLAYER_ID_PastGamesFinalMargin5Games_isBAD',\n",
       " 'CLOSEST_DEFENDER_PLAYER_ID_PastGamePlayerAccuracy2pts5Games_clean',\n",
       " 'CLOSEST_DEFENDER_PLAYER_ID_PastGamePlayerAccuracy2pts5Games_isBAD',\n",
       " 'CLOSEST_DEFENDER_PLAYER_ID_PastGamePlayerAccuracy3pts5Games_clean',\n",
       " 'CLOSEST_DEFENDER_PLAYER_ID_PastGamePlayerAccuracy3pts5Games_isBAD',\n",
       " 'CLOSEST_DEFENDER_PLAYER_ID_PastGamesPlayerWinPrcnt5Games_clean',\n",
       " 'CLOSEST_DEFENDER_PLAYER_ID_PastGamesPlayerWinPrcnt5Games_isBAD',\n",
       " 'Last_FGM_clean',\n",
       " 'Last_FGM_isBAD',\n",
       " 'ingame_FGM_before_shot_clean',\n",
       " 'ingame_FGM_before_shot_isBAD',\n",
       " 'ingame_TotalFG_before_shot_clean',\n",
       " 'ingame_TotalFG_before_shot_isBAD',\n",
       " 'ingame_FGM_acc_before_shot_clean',\n",
       " 'ingame_FGM_acc_before_shot_isBAD',\n",
       " 'FGM']"
      ]
     },
     "execution_count": 20,
     "metadata": {},
     "output_type": "execute_result"
    }
   ],
   "source": [
    "list(dTrainTreated)"
   ]
  },
  {
   "cell_type": "code",
   "execution_count": 21,
   "metadata": {},
   "outputs": [
    {
     "data": {
      "text/plain": [
       "['LOCATION_lev_x.H',\n",
       " 'SHOT_NUMBER_clean',\n",
       " 'PERIOD_lev_x.2',\n",
       " 'PERIOD_lev_x.3',\n",
       " 'PERIOD_lev_x.4',\n",
       " 'SHOT_CLOCK_clean',\n",
       " 'DRIBBLES_clean',\n",
       " 'TOUCH_TIME_clean',\n",
       " 'SHOT_DIST_clean',\n",
       " 'PTS_TYPE_lev_x.3',\n",
       " 'CLOSEST_DEFENDER_PLAYER_ID_catB',\n",
       " 'CLOSE_DEF_DIST_clean',\n",
       " 'player_id_catB',\n",
       " 'HOME_TEAM_catB',\n",
       " 'AWAY_TEAM_catB',\n",
       " 'GAME_CLOCK_SEC_clean',\n",
       " 'PLAYER_HOME_clean',\n",
       " 'GAME_WEEKDAY_lev_x.1',\n",
       " 'GAME_WEEKDAY_lev_x.2',\n",
       " 'GAME_WEEKDAY_lev_x.3',\n",
       " 'GAME_WEEKDAY_lev_x.4',\n",
       " 'GAME_WEEKDAY_lev_x.5',\n",
       " 'GAME_WEEKDAY_lev_x.6',\n",
       " 'GAME_MONTH_lev_x.10',\n",
       " 'GAME_MONTH_lev_x.11',\n",
       " 'GAME_MONTH_lev_x.12',\n",
       " 'GAME_MONTH_lev_x.2',\n",
       " 'GAME_MONTH_lev_x.3',\n",
       " 'player_id_Shots3pts3Games_clean',\n",
       " 'player_id_Shots3pts3Games_isBAD',\n",
       " 'player_id_Shots2pts3Games_clean',\n",
       " 'player_id_Shots2pts3Games_isBAD',\n",
       " 'player_id_SuccessfulShots3pts3Games_clean',\n",
       " 'player_id_SuccessfulShots3pts3Games_isBAD',\n",
       " 'player_id_SuccessfulShots2pts3Games_clean',\n",
       " 'player_id_SuccessfulShots2pts3Games_isBAD',\n",
       " 'player_id_PastGamesPlayerWins3Games_clean',\n",
       " 'player_id_PastGamesPlayerWins3Games_isBAD',\n",
       " 'player_id_PastGamesFinalMargin3Games_clean',\n",
       " 'player_id_PastGamesFinalMargin3Games_isBAD',\n",
       " 'player_id_PastGamePlayerAccuracy2pts3Games_clean',\n",
       " 'player_id_PastGamePlayerAccuracy2pts3Games_isBAD',\n",
       " 'player_id_PastGamePlayerAccuracy3pts3Games_clean',\n",
       " 'player_id_PastGamePlayerAccuracy3pts3Games_isBAD',\n",
       " 'player_id_PastGamesPlayerWinPrcnt3Games_clean',\n",
       " 'player_id_PastGamesPlayerWinPrcnt3Games_isBAD',\n",
       " 'player_id_Shots3pts5Games_clean',\n",
       " 'player_id_Shots3pts5Games_isBAD',\n",
       " 'player_id_Shots2pts5Games_clean',\n",
       " 'player_id_Shots2pts5Games_isBAD',\n",
       " 'player_id_SuccessfulShots3pts5Games_clean',\n",
       " 'player_id_SuccessfulShots3pts5Games_isBAD',\n",
       " 'player_id_SuccessfulShots2pts5Games_clean',\n",
       " 'player_id_SuccessfulShots2pts5Games_isBAD',\n",
       " 'player_id_PastGamesPlayerWins5Games_clean',\n",
       " 'player_id_PastGamesPlayerWins5Games_isBAD',\n",
       " 'player_id_PastGamesFinalMargin5Games_clean',\n",
       " 'player_id_PastGamesFinalMargin5Games_isBAD',\n",
       " 'player_id_PastGamePlayerAccuracy2pts5Games_clean',\n",
       " 'player_id_PastGamePlayerAccuracy2pts5Games_isBAD',\n",
       " 'player_id_PastGamePlayerAccuracy3pts5Games_clean',\n",
       " 'player_id_PastGamePlayerAccuracy3pts5Games_isBAD',\n",
       " 'player_id_PastGamesPlayerWinPrcnt5Games_clean',\n",
       " 'player_id_PastGamesPlayerWinPrcnt5Games_isBAD',\n",
       " 'CLOSEST_DEFENDER_PLAYER_ID_Shots3pts3Games_clean',\n",
       " 'CLOSEST_DEFENDER_PLAYER_ID_Shots3pts3Games_isBAD',\n",
       " 'CLOSEST_DEFENDER_PLAYER_ID_Shots2pts3Games_clean',\n",
       " 'CLOSEST_DEFENDER_PLAYER_ID_Shots2pts3Games_isBAD',\n",
       " 'CLOSEST_DEFENDER_PLAYER_ID_SuccessfulShots3pts3Games_clean',\n",
       " 'CLOSEST_DEFENDER_PLAYER_ID_SuccessfulShots3pts3Games_isBAD',\n",
       " 'CLOSEST_DEFENDER_PLAYER_ID_SuccessfulShots2pts3Games_clean',\n",
       " 'CLOSEST_DEFENDER_PLAYER_ID_SuccessfulShots2pts3Games_isBAD',\n",
       " 'CLOSEST_DEFENDER_PLAYER_ID_PastGamesPlayerWins3Games_clean',\n",
       " 'CLOSEST_DEFENDER_PLAYER_ID_PastGamesPlayerWins3Games_isBAD',\n",
       " 'CLOSEST_DEFENDER_PLAYER_ID_PastGamesFinalMargin3Games_clean',\n",
       " 'CLOSEST_DEFENDER_PLAYER_ID_PastGamesFinalMargin3Games_isBAD',\n",
       " 'CLOSEST_DEFENDER_PLAYER_ID_PastGamePlayerAccuracy2pts3Games_clean',\n",
       " 'CLOSEST_DEFENDER_PLAYER_ID_PastGamePlayerAccuracy2pts3Games_isBAD',\n",
       " 'CLOSEST_DEFENDER_PLAYER_ID_PastGamePlayerAccuracy3pts3Games_clean',\n",
       " 'CLOSEST_DEFENDER_PLAYER_ID_PastGamePlayerAccuracy3pts3Games_isBAD',\n",
       " 'CLOSEST_DEFENDER_PLAYER_ID_PastGamesPlayerWinPrcnt3Games_clean',\n",
       " 'CLOSEST_DEFENDER_PLAYER_ID_PastGamesPlayerWinPrcnt3Games_isBAD',\n",
       " 'CLOSEST_DEFENDER_PLAYER_ID_Shots3pts5Games_clean',\n",
       " 'CLOSEST_DEFENDER_PLAYER_ID_Shots3pts5Games_isBAD',\n",
       " 'CLOSEST_DEFENDER_PLAYER_ID_Shots2pts5Games_clean',\n",
       " 'CLOSEST_DEFENDER_PLAYER_ID_Shots2pts5Games_isBAD',\n",
       " 'CLOSEST_DEFENDER_PLAYER_ID_SuccessfulShots3pts5Games_clean',\n",
       " 'CLOSEST_DEFENDER_PLAYER_ID_SuccessfulShots3pts5Games_isBAD',\n",
       " 'CLOSEST_DEFENDER_PLAYER_ID_SuccessfulShots2pts5Games_clean',\n",
       " 'CLOSEST_DEFENDER_PLAYER_ID_SuccessfulShots2pts5Games_isBAD',\n",
       " 'CLOSEST_DEFENDER_PLAYER_ID_PastGamesPlayerWins5Games_clean',\n",
       " 'CLOSEST_DEFENDER_PLAYER_ID_PastGamesPlayerWins5Games_isBAD',\n",
       " 'CLOSEST_DEFENDER_PLAYER_ID_PastGamesFinalMargin5Games_clean',\n",
       " 'CLOSEST_DEFENDER_PLAYER_ID_PastGamesFinalMargin5Games_isBAD',\n",
       " 'CLOSEST_DEFENDER_PLAYER_ID_PastGamePlayerAccuracy2pts5Games_clean',\n",
       " 'CLOSEST_DEFENDER_PLAYER_ID_PastGamePlayerAccuracy2pts5Games_isBAD',\n",
       " 'CLOSEST_DEFENDER_PLAYER_ID_PastGamePlayerAccuracy3pts5Games_clean',\n",
       " 'CLOSEST_DEFENDER_PLAYER_ID_PastGamePlayerAccuracy3pts5Games_isBAD',\n",
       " 'CLOSEST_DEFENDER_PLAYER_ID_PastGamesPlayerWinPrcnt5Games_clean',\n",
       " 'CLOSEST_DEFENDER_PLAYER_ID_PastGamesPlayerWinPrcnt5Games_isBAD',\n",
       " 'Last_FGM_clean',\n",
       " 'Last_FGM_isBAD',\n",
       " 'ingame_FGM_before_shot_clean',\n",
       " 'ingame_FGM_before_shot_isBAD',\n",
       " 'ingame_TotalFG_before_shot_clean',\n",
       " 'ingame_TotalFG_before_shot_isBAD',\n",
       " 'ingame_FGM_acc_before_shot_clean',\n",
       " 'ingame_FGM_acc_before_shot_isBAD']"
      ]
     },
     "execution_count": 21,
     "metadata": {},
     "output_type": "execute_result"
    }
   ],
   "source": [
    "variables_to_delete = ['LOCATION_lev_x.A', 'PERIOD_catP', 'PERIOD_catB', 'PERIOD_lev_x.1','PTS_TYPE_lev_x.2',\n",
    "                      'CLOSEST_DEFENDER_PLAYER_ID_catP', 'player_id_catP', 'HOME_TEAM_catP', 'AWAY_TEAM_catP',\n",
    "                      'GAME_WEEKDAY_lev_x.0', 'GAME_WEEKDAY_catP', 'GAME_WEEKDAY_catB', 'GAME_MONTH_lev_x.1',\n",
    "                      'GAME_MONTH_catP', 'GAME_MONTH_catB']\n",
    "\n",
    "for variable in variables_to_delete:\n",
    "    dTrainTreated = dTrainTreated.drop (variable, 1)\n",
    "    dTestTreated = dTestTreated.drop (variable, 1)\n",
    "dTrainTreated = dTrainTreated.drop('FGM', 1)\n",
    "list(dTrainTreated)"
   ]
  },
  {
   "cell_type": "code",
   "execution_count": 22,
   "metadata": {},
   "outputs": [
    {
     "name": "stdout",
     "output_type": "stream",
     "text": [
      "Round:  1  iteration:  1\n",
      "Round:  1  iteration:  2\n",
      "Round:  1  iteration:  3\n",
      "Round:  1  iteration:  4\n",
      "Round:  1  iteration:  5\n",
      "Round:  1  iteration:  6\n",
      "Round:  1  iteration:  7\n",
      "Round:  1  iteration:  8\n",
      "Round:  1  iteration:  9\n",
      "Round:  1  iteration:  10\n",
      "Round:  2  iteration:  1\n",
      "Round:  2  iteration:  2\n",
      "Round:  2  iteration:  3\n",
      "Round:  2  iteration:  4\n",
      "Round:  2  iteration:  5\n",
      "Round:  2  iteration:  6\n",
      "Round:  2  iteration:  7\n",
      "Round:  2  iteration:  8\n",
      "Round:  2  iteration:  9\n",
      "Round:  2  iteration:  10\n",
      "BoostARoota ran successfully! Algorithm went through  2  rounds.\n",
      "The algorithm reduced the data from 108 to 65 variables\n"
     ]
    }
   ],
   "source": [
    "############################## Feature Selection ##############################\n",
    "\n",
    "# BoostARoota from: https://github.com/chasedehan/BoostARoota# BoostAR \n",
    "br = BoostARoota(metric='logloss', silent=False)\n",
    "\n",
    "br.fit(dTrainTreated,y_train)\n",
    "X_train_reduced = br.transform(dTrainTreated)\n",
    "\n",
    "print(\"The algorithm reduced the data from \" + str(dTrainTreated.shape[1]) + \" to \" + \n",
    "      str(X_train_reduced.shape[1]) + \" variables\")\n",
    "\n",
    "important_variables = list (X_train_reduced)\n",
    "#important_variables = list (X_train)\n",
    "#important_variables"
   ]
  },
  {
   "cell_type": "code",
   "execution_count": 23,
   "metadata": {},
   "outputs": [],
   "source": [
    "X_train = dTrainTreated.loc[:, important_variables]\n",
    "X_test = dTestTreated.loc[:, important_variables]"
   ]
  },
  {
   "cell_type": "code",
   "execution_count": 24,
   "metadata": {},
   "outputs": [
    {
     "data": {
      "text/plain": [
       "['LOCATION_lev_x.H',\n",
       " 'SHOT_NUMBER_clean',\n",
       " 'PERIOD_lev_x.2',\n",
       " 'PERIOD_lev_x.3',\n",
       " 'PERIOD_lev_x.4',\n",
       " 'SHOT_CLOCK_clean',\n",
       " 'DRIBBLES_clean',\n",
       " 'TOUCH_TIME_clean',\n",
       " 'SHOT_DIST_clean',\n",
       " 'PTS_TYPE_lev_x.3',\n",
       " 'CLOSEST_DEFENDER_PLAYER_ID_catB',\n",
       " 'CLOSE_DEF_DIST_clean',\n",
       " 'player_id_catB',\n",
       " 'HOME_TEAM_catB',\n",
       " 'AWAY_TEAM_catB',\n",
       " 'GAME_CLOCK_SEC_clean',\n",
       " 'GAME_WEEKDAY_lev_x.1',\n",
       " 'GAME_WEEKDAY_lev_x.2',\n",
       " 'GAME_WEEKDAY_lev_x.6',\n",
       " 'GAME_MONTH_lev_x.10',\n",
       " 'GAME_MONTH_lev_x.11',\n",
       " 'GAME_MONTH_lev_x.12',\n",
       " 'GAME_MONTH_lev_x.2',\n",
       " 'GAME_MONTH_lev_x.3',\n",
       " 'player_id_Shots3pts3Games_clean',\n",
       " 'player_id_Shots3pts3Games_isBAD',\n",
       " 'player_id_Shots2pts3Games_clean',\n",
       " 'player_id_SuccessfulShots3pts3Games_clean',\n",
       " 'player_id_SuccessfulShots2pts3Games_clean',\n",
       " 'player_id_PastGamesPlayerWins3Games_clean',\n",
       " 'player_id_PastGamesFinalMargin3Games_clean',\n",
       " 'player_id_PastGamePlayerAccuracy2pts3Games_clean',\n",
       " 'player_id_PastGamePlayerAccuracy3pts3Games_clean',\n",
       " 'player_id_Shots3pts5Games_clean',\n",
       " 'player_id_Shots2pts5Games_clean',\n",
       " 'player_id_SuccessfulShots3pts5Games_clean',\n",
       " 'player_id_SuccessfulShots2pts5Games_clean',\n",
       " 'player_id_PastGamesPlayerWins5Games_clean',\n",
       " 'player_id_PastGamesFinalMargin5Games_clean',\n",
       " 'player_id_PastGamePlayerAccuracy2pts5Games_clean',\n",
       " 'player_id_PastGamePlayerAccuracy3pts5Games_clean',\n",
       " 'CLOSEST_DEFENDER_PLAYER_ID_Shots3pts3Games_clean',\n",
       " 'CLOSEST_DEFENDER_PLAYER_ID_Shots2pts3Games_clean',\n",
       " 'CLOSEST_DEFENDER_PLAYER_ID_SuccessfulShots3pts3Games_clean',\n",
       " 'CLOSEST_DEFENDER_PLAYER_ID_SuccessfulShots2pts3Games_clean',\n",
       " 'CLOSEST_DEFENDER_PLAYER_ID_PastGamesPlayerWins3Games_clean',\n",
       " 'CLOSEST_DEFENDER_PLAYER_ID_PastGamesFinalMargin3Games_clean',\n",
       " 'CLOSEST_DEFENDER_PLAYER_ID_PastGamePlayerAccuracy2pts3Games_clean',\n",
       " 'CLOSEST_DEFENDER_PLAYER_ID_PastGamePlayerAccuracy2pts3Games_isBAD',\n",
       " 'CLOSEST_DEFENDER_PLAYER_ID_PastGamePlayerAccuracy3pts3Games_clean',\n",
       " 'CLOSEST_DEFENDER_PLAYER_ID_PastGamePlayerAccuracy3pts3Games_isBAD',\n",
       " 'CLOSEST_DEFENDER_PLAYER_ID_Shots3pts5Games_clean',\n",
       " 'CLOSEST_DEFENDER_PLAYER_ID_Shots3pts5Games_isBAD',\n",
       " 'CLOSEST_DEFENDER_PLAYER_ID_Shots2pts5Games_clean',\n",
       " 'CLOSEST_DEFENDER_PLAYER_ID_SuccessfulShots3pts5Games_clean',\n",
       " 'CLOSEST_DEFENDER_PLAYER_ID_SuccessfulShots2pts5Games_clean',\n",
       " 'CLOSEST_DEFENDER_PLAYER_ID_PastGamesPlayerWins5Games_clean',\n",
       " 'CLOSEST_DEFENDER_PLAYER_ID_PastGamesFinalMargin5Games_clean',\n",
       " 'CLOSEST_DEFENDER_PLAYER_ID_PastGamePlayerAccuracy2pts5Games_clean',\n",
       " 'CLOSEST_DEFENDER_PLAYER_ID_PastGamePlayerAccuracy3pts5Games_clean',\n",
       " 'CLOSEST_DEFENDER_PLAYER_ID_PastGamePlayerAccuracy3pts5Games_isBAD',\n",
       " 'Last_FGM_clean',\n",
       " 'ingame_FGM_before_shot_clean',\n",
       " 'ingame_TotalFG_before_shot_clean',\n",
       " 'ingame_FGM_acc_before_shot_clean']"
      ]
     },
     "execution_count": 24,
     "metadata": {},
     "output_type": "execute_result"
    }
   ],
   "source": [
    "list(important_variables)"
   ]
  },
  {
   "cell_type": "code",
   "execution_count": 25,
   "metadata": {},
   "outputs": [
    {
     "name": "stdout",
     "output_type": "stream",
     "text": [
      "Check: \n",
      "Training size is (102455, 65)\n",
      "Testing size is (25614, 65)\n",
      "\n"
     ]
    }
   ],
   "source": [
    "print (\"Check: \\n\" + \n",
    "       \"Training size is \" + str(X_train.shape) + \"\\n\" + \n",
    "       \"Testing size is \" + str(X_test.shape) + \"\\n\"\n",
    "      )"
   ]
  },
  {
   "cell_type": "code",
   "execution_count": 26,
   "metadata": {},
   "outputs": [
    {
     "data": {
      "text/plain": [
       "RandomizedSearchCV(cv=5, error_score='raise',\n",
       "          estimator=XGBClassifier(base_score=0.5, booster='gbtree', colsample_bylevel=1,\n",
       "       colsample_bytree=1, gamma=0, learning_rate=0.1, max_delta_step=0,\n",
       "       max_depth=3, min_child_weight=1, missing=None, n_estimators=100,\n",
       "       n_jobs=1, nthread=None, objective='binary:logistic', random_state=0,\n",
       "       reg_alpha=0, reg_lambda=1, scale_pos_weight=1, seed=None,\n",
       "       silent=True, subsample=1),\n",
       "          fit_params=None, iid=True, n_iter=10, n_jobs=1,\n",
       "          param_distributions={'n_estimators': <scipy.stats._distn_infrastructure.rv_frozen object at 0x00000174CAB2D160>, 'max_depth': <scipy.stats._distn_infrastructure.rv_frozen object at 0x00000174BE3E7668>, 'learning_rate': <scipy.stats._distn_infrastructure.rv_frozen object at 0x00000174CA2BD898>, 'cols...D8>, 'min_child_weight': <scipy.stats._distn_infrastructure.rv_frozen object at 0x00000174CAB066D8>},\n",
       "          pre_dispatch='2*n_jobs', random_state=None, refit=True,\n",
       "          return_train_score='warn', scoring='roc_auc', verbose=0)"
      ]
     },
     "execution_count": 26,
     "metadata": {},
     "output_type": "execute_result"
    }
   ],
   "source": [
    "# distributions of params from: http://danielhnyk.cz/how-to-use-xgboost-in-python/\n",
    "\n",
    "XGBmodel = XGBClassifier()\n",
    "\n",
    "one_to_left = st.beta(10, 1)  \n",
    "from_zero_positive = st.expon(0, 50)\n",
    "XGB_search_params = {  \n",
    "    \"n_estimators\": st.randint(3, 40),\n",
    "    \"max_depth\": st.randint(3, 40),\n",
    "    \"learning_rate\": st.uniform(0.05, 0.4),\n",
    "    \"colsample_bytree\": one_to_left,\n",
    "    \"subsample\": one_to_left,\n",
    "    \"gamma\": st.uniform(0, 10),\n",
    "    'reg_alpha': from_zero_positive,\n",
    "    \"min_child_weight\": from_zero_positive,\n",
    "}\n",
    "\n",
    "\n",
    "XGBsearch = RandomizedSearchCV(XGBmodel, XGB_search_params, cv=5, scoring = 'roc_auc', n_iter=10)\n",
    "XGBsearch.fit(X_train, y_train)"
   ]
  },
  {
   "cell_type": "code",
   "execution_count": 27,
   "metadata": {},
   "outputs": [
    {
     "data": {
      "text/plain": [
       "XGBClassifier(base_score=0.5, booster='gbtree', colsample_bylevel=1,\n",
       "       colsample_bytree=0.9605717786744534, gamma=6.80244467747622,\n",
       "       learning_rate=0.3013757845392436, max_delta_step=0, max_depth=27,\n",
       "       min_child_weight=66.89013260212835, missing=None, n_estimators=27,\n",
       "       n_jobs=1, nthread=None, objective='binary:logistic', random_state=0,\n",
       "       reg_alpha=22.72399916236906, reg_lambda=1, scale_pos_weight=1,\n",
       "       seed=None, silent=True, subsample=0.9985780377846429)"
      ]
     },
     "execution_count": 27,
     "metadata": {},
     "output_type": "execute_result"
    }
   ],
   "source": [
    "best_classifier = XGBClassifier()\n",
    "# best_classifier.fit(X_train, y_train)\n",
    "\n",
    "XGBparams = XGBsearch.best_params_\n",
    "best_classifier.set_params(**XGBparams)\n",
    "best_classifier.fit(X_train, y_train)"
   ]
  },
  {
   "cell_type": "code",
   "execution_count": 28,
   "metadata": {},
   "outputs": [
    {
     "data": {
      "text/plain": [
       "62.04809869602561"
      ]
     },
     "execution_count": 28,
     "metadata": {},
     "output_type": "execute_result"
    }
   ],
   "source": [
    "y_pred = best_classifier.predict(X_test)\n",
    "y_pred_prob = best_classifier.predict_proba(X_test)\n",
    "\n",
    "acc = 100*accuracy_score(y_test, y_pred)\n",
    "acc"
   ]
  },
  {
   "cell_type": "code",
   "execution_count": null,
   "metadata": {},
   "outputs": [],
   "source": [
    "plot = plot_importance(best_classifier, max_num_features=15)\n",
    "#features_plot = pd.Series(best_classifier.feature_importances_, index=X_test.columns).nlargest(13).plot(kind='barh')"
   ]
  },
  {
   "cell_type": "code",
   "execution_count": null,
   "metadata": {},
   "outputs": [],
   "source": []
  }
 ],
 "metadata": {
  "kernelspec": {
   "display_name": "Python 3",
   "language": "python",
   "name": "python3"
  },
  "language_info": {
   "codemirror_mode": {
    "name": "ipython",
    "version": 3
   },
   "file_extension": ".py",
   "mimetype": "text/x-python",
   "name": "python",
   "nbconvert_exporter": "python",
   "pygments_lexer": "ipython3",
   "version": "3.6.4"
  }
 },
 "nbformat": 4,
 "nbformat_minor": 2
}
